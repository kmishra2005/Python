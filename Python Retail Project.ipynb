{
 "cells": [
  {
   "cell_type": "markdown",
   "id": "d0939efc",
   "metadata": {},
   "source": [
    "# RFM Analysis of Online Retail Data"
   ]
  },
  {
   "cell_type": "markdown",
   "id": "ecfeb76e",
   "metadata": {},
   "source": [
    "# RFM stands for recency, frequency and monetary analysis. RFM analysis is usually done on transactions data. You will be using the data here. This data contains details about online transactions from year 2009-2011.\n",
    "\n",
    "# Task 1 : \n",
    " The first thing you need to do is to create an RFM view for each customer. What is RFM view?\n",
    " You will need to compute the following for each customer:\n",
    " 1. The number of times a customer has made transactions. If in a single day a customer has made 3 transactions, count them as\n",
    " 3 separate transactions. This is the frequency in R F M\n",
    " 2. The total and average revenue per customer. To arrive at revenue, you will need to multiply the Quantity and Price columns. You will also need to clean the Price column for any data quality issues. This will become the monetary term in RF M\n",
    " 3. Lastly you will need to find the recency of the last purchase. This can be computed by finding the number of days that have elapsed from the last purchase each customer has made. You can use a base date of 01/01/2012 to compute recency. \n",
    " Find out the number of days elapsed from 01/01/2012 for each customer's most recent purchase."
   ]
  },
  {
   "cell_type": "code",
   "execution_count": null,
   "id": "21d1bcfa",
   "metadata": {},
   "outputs": [],
   "source": []
  },
  {
   "cell_type": "code",
   "execution_count": null,
   "id": "500d5fae",
   "metadata": {},
   "outputs": [],
   "source": [
    "# To run the program use this GIT Hub Data Set:\n",
    "# https://github.com/Gunnvant/Self-Paced-Content/blob/main/python/interview_prep/sql/practice_ex_1/retail_sales.csv  "
   ]
  },
  {
   "cell_type": "code",
   "execution_count": 1,
   "id": "eea54882",
   "metadata": {},
   "outputs": [],
   "source": [
    "#load data set\n",
    "import warnings\n",
    "warnings.filterwarnings('ignore')\n",
    "import re\n",
    "import pandas as pd\n",
    "import numpy as np\n",
    "from datetime import datetime \n",
    "\n",
    "# making data frame from csv file\n",
    "data=pd.read_csv(\"C:\\\\Users\\\\ASUS\\\\OneDrive\\\\Desktop\\\\Python Project\\\\retail.csv\", index_col =\"Customer ID\")"
   ]
  },
  {
   "cell_type": "code",
   "execution_count": 2,
   "id": "5b943035",
   "metadata": {},
   "outputs": [],
   "source": [
    "# Removing comma (,) from price\n",
    "data[\"Price\"]=data[\"Price\"].str.replace(',','')\n",
    "\n",
    "# Changing data type of PRICE column into FLOAT type\n",
    "data[\"Price\"]=data[\"Price\"].astype(float)\n",
    "\n",
    "# Removing dot (.) from \"InvoiceDate\" column and inserting '-' inplace.\n",
    "data[\"InvoiceDate\"]=data[\"InvoiceDate\"].str.replace('.','-')\n",
    "\n",
    "# Converting String InvoiceDate to Date type\n",
    "data[\"InvoiceDate\"]=pd.to_datetime(data[\"InvoiceDate\"])\n",
    "\n",
    "# Creating REVENUE CLOUMN as a new column in the dataframe\n",
    "data[\"Revenue\"]=data[\"Quantity\"]*data[\"Price\"]\n"
   ]
  },
  {
   "cell_type": "code",
   "execution_count": 3,
   "id": "da48eed5",
   "metadata": {},
   "outputs": [],
   "source": [
    "# Creating new object of resultant columns \"Freq\",\"Tot_Rev\",\"LastInvoiceDate\" \n",
    "# & \"Avg_Rev\" with filter data as per unique Customer ID. \n",
    "data1=data.groupby(\"Customer ID\")[\"Revenue\"].agg([\"count\"])\n",
    "\n",
    "# Creating Column for Last purchase by finding recent date of purchase\n",
    "data1[\"LastInvoiceDate\"]=(data.groupby(\"Customer ID\")[\"InvoiceDate\"].agg([\"max\"]))[\"max\"]\n",
    "\n",
    "# Creating column \"DURATION\" by inserting result by subtracting\n",
    "# 'lastInvoiceDate' from 'basedate' i.e. '01-01-2012 00:00:00'. \n",
    "basedate=pd.Timestamp('2012-01-01 00:00:00')\n",
    "data1[\"Duration\"]=basedate - data1[\"LastInvoiceDate\"]\n",
    "data1[\"Freq\"]=(data.groupby(\"Customer ID\")[\"Revenue\"].agg([\"count\"]))[\"count\"]\n",
    "data1[\"Tot_Rev\"]=(data.groupby(\"Customer ID\")[\"Revenue\"].agg([\"sum\"]))[\"sum\"]\n",
    "\n",
    "# Calculating Average Revenue & Creating \"Avg_Rev\"\n",
    "data1[\"Avg_Rev\"]=data1[\"Tot_Rev\"]/data1[\"Freq\"]"
   ]
  },
  {
   "cell_type": "code",
   "execution_count": 4,
   "id": "c3df1aee",
   "metadata": {},
   "outputs": [],
   "source": [
    "# Removing Extra Column 'COUNT' from the dataframe.\n",
    "# data2=pd.DataFrame(data1)\n",
    "del data1[\"count\"]\n",
    "del data1[\"LastInvoiceDate\"]\n",
    "\n",
    "# Sorting Records in Descending Order on \"Customer ID\"\n",
    "data1=data1.sort_values(by=[\"Customer ID\"], ascending=0)\n",
    "data1.head()\n",
    "\n",
    "# Creating a new CSV file to store the result\n",
    "data1.to_csv(\"C:\\\\Users\\\\ASUS\\\\OneDrive\\\\Desktop\\\\Python Project\\\\Retail1.csv\")"
   ]
  },
  {
   "cell_type": "code",
   "execution_count": 5,
   "id": "8fc6040a",
   "metadata": {},
   "outputs": [
    {
     "data": {
      "text/html": [
       "<div>\n",
       "<style scoped>\n",
       "    .dataframe tbody tr th:only-of-type {\n",
       "        vertical-align: middle;\n",
       "    }\n",
       "\n",
       "    .dataframe tbody tr th {\n",
       "        vertical-align: top;\n",
       "    }\n",
       "\n",
       "    .dataframe thead th {\n",
       "        text-align: right;\n",
       "    }\n",
       "</style>\n",
       "<table border=\"1\" class=\"dataframe\">\n",
       "  <thead>\n",
       "    <tr style=\"text-align: right;\">\n",
       "      <th></th>\n",
       "      <th>Duration</th>\n",
       "      <th>Freq</th>\n",
       "      <th>Tot_Rev</th>\n",
       "      <th>Avg_Rev</th>\n",
       "    </tr>\n",
       "    <tr>\n",
       "      <th>Customer ID</th>\n",
       "      <th></th>\n",
       "      <th></th>\n",
       "      <th></th>\n",
       "      <th></th>\n",
       "    </tr>\n",
       "  </thead>\n",
       "  <tbody>\n",
       "    <tr>\n",
       "      <th>18287.0</th>\n",
       "      <td>21 days 13:37:00</td>\n",
       "      <td>156</td>\n",
       "      <td>363285.0</td>\n",
       "      <td>2328.750000</td>\n",
       "    </tr>\n",
       "    <tr>\n",
       "      <th>18286.0</th>\n",
       "      <td>498 days 12:03:00</td>\n",
       "      <td>70</td>\n",
       "      <td>109735.0</td>\n",
       "      <td>1567.642857</td>\n",
       "    </tr>\n",
       "    <tr>\n",
       "      <th>18285.0</th>\n",
       "      <td>682 days 13:36:00</td>\n",
       "      <td>12</td>\n",
       "      <td>34690.0</td>\n",
       "      <td>2890.833333</td>\n",
       "    </tr>\n",
       "    <tr>\n",
       "      <th>18284.0</th>\n",
       "      <td>569 days 11:29:00</td>\n",
       "      <td>29</td>\n",
       "      <td>38925.0</td>\n",
       "      <td>1342.241379</td>\n",
       "    </tr>\n",
       "    <tr>\n",
       "      <th>18283.0</th>\n",
       "      <td>31 days 11:01:00</td>\n",
       "      <td>936</td>\n",
       "      <td>240157.0</td>\n",
       "      <td>256.577991</td>\n",
       "    </tr>\n",
       "  </tbody>\n",
       "</table>\n",
       "</div>"
      ],
      "text/plain": [
       "                     Duration  Freq   Tot_Rev      Avg_Rev\n",
       "Customer ID                                               \n",
       "18287.0      21 days 13:37:00   156  363285.0  2328.750000\n",
       "18286.0     498 days 12:03:00    70  109735.0  1567.642857\n",
       "18285.0     682 days 13:36:00    12   34690.0  2890.833333\n",
       "18284.0     569 days 11:29:00    29   38925.0  1342.241379\n",
       "18283.0      31 days 11:01:00   936  240157.0   256.577991"
      ]
     },
     "execution_count": 5,
     "metadata": {},
     "output_type": "execute_result"
    }
   ],
   "source": [
    "data1.head()"
   ]
  },
  {
   "cell_type": "code",
   "execution_count": null,
   "id": "5e548410",
   "metadata": {},
   "outputs": [],
   "source": []
  },
  {
   "cell_type": "code",
   "execution_count": null,
   "id": "4e5e2e2a",
   "metadata": {},
   "outputs": [],
   "source": []
  },
  {
   "cell_type": "code",
   "execution_count": null,
   "id": "880ed502",
   "metadata": {},
   "outputs": [],
   "source": []
  },
  {
   "cell_type": "code",
   "execution_count": null,
   "id": "565eee8b",
   "metadata": {},
   "outputs": [],
   "source": []
  }
 ],
 "metadata": {
  "kernelspec": {
   "display_name": "Python 3 (ipykernel)",
   "language": "python",
   "name": "python3"
  },
  "language_info": {
   "codemirror_mode": {
    "name": "ipython",
    "version": 3
   },
   "file_extension": ".py",
   "mimetype": "text/x-python",
   "name": "python",
   "nbconvert_exporter": "python",
   "pygments_lexer": "ipython3",
   "version": "3.9.13"
  }
 },
 "nbformat": 4,
 "nbformat_minor": 5
}
